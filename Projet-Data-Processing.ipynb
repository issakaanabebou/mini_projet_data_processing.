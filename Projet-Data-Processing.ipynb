{
 "cells": [
  {
   "cell_type": "markdown",
   "metadata": {},
   "source": [
    "\n",
    " # Projet de Data Processing"
   ]
  },
  {
   "cell_type": "code",
   "execution_count": null,
   "metadata": {},
   "outputs": [],
   "source": [
    "# Import des bibiliothèques Necessaires"
   ]
  },
  {
   "cell_type": "code",
   "execution_count": 1,
   "metadata": {},
   "outputs": [],
   "source": [
    "import os\n",
    "import pandas as pd\n",
    "import string\n",
    "import xlsxwriter"
   ]
  },
  {
   "cell_type": "markdown",
   "metadata": {},
   "source": [
    "# I. Chargement et préparation des données"
   ]
  },
  {
   "cell_type": "code",
   "execution_count": 2,
   "metadata": {},
   "outputs": [],
   "source": [
    "# I.1. ## INDEXATION DU FICHIER DE TRAVAIL\n",
    "os.chdir(\"C:\\ANABEBOU\\MASTER EN FOUILLE DE DONNEES CANDIDATURE\\COURS\\MANIP_DONNEES\\TRAITEMENT_PROJET\\BF\")\n",
    "\n",
    "# I.2. Chargement de la base de données\n",
    "\n",
    "colonne=[\"geonameid\", \"name\", \"asciiname\", \"alternatenames\", \"latitude\", \"longitude\", \"feature class\", \n",
    "\"feature code\", \"country code\", \"cc2\", \"admin1 code\", \"admin2 code\", \"admin3 code\", \"admin4 code\", \"population\", \"elevation\", \n",
    "\"dem\", \"timezone\", \"modification date\"]\n",
    "\n",
    "bfa = pd.read_csv(\"BF.txt\",delimiter=\"\\t\", header=None, names=colonne)\n"
   ]
  },
  {
   "cell_type": "code",
   "execution_count": 3,
   "metadata": {},
   "outputs": [
    {
     "name": "stderr",
     "output_type": "stream",
     "text": [
      "C:\\Users\\user\\anaconda3\\lib\\site-packages\\pandas\\core\\frame.py:4441: SettingWithCopyWarning: \n",
      "A value is trying to be set on a copy of a slice from a DataFrame\n",
      "\n",
      "See the caveats in the documentation: https://pandas.pydata.org/pandas-docs/stable/user_guide/indexing.html#returning-a-view-versus-a-copy\n",
      "  return super().rename(\n"
     ]
    }
   ],
   "source": [
    "# I.3. préparation de la base de données\n",
    "\n",
    "COL_SEL = [\"geonameid\", \"asciiname\", \"latitude\", \"longitude\"]\n",
    "\n",
    "base_trav = bfa[COL_SEL]\n",
    "\n",
    "# I.4. Rénommination des colonnes\n",
    "\n",
    "col_reno = {\"geonameid\":\"ID\", \"asciiname\":\"location_name\", \"latitude\":\"lat\", \"longitude\":\"long\"}\n",
    "\n",
    "base_trav.rename(columns = col_reno, inplace=True)"
   ]
  },
  {
   "cell_type": "code",
   "execution_count": 4,
   "metadata": {},
   "outputs": [],
   "source": [
    "# I.5. Enregitstrement de l base de données au format csv\n",
    "\n",
    "base_trav.to_csv(\"burkina_location.csv\")"
   ]
  },
  {
   "cell_type": "markdown",
   "metadata": {},
   "source": [
    "# II. Opérations sur fichier csv"
   ]
  },
  {
   "cell_type": "code",
   "execution_count": 15,
   "metadata": {},
   "outputs": [],
   "source": [
    "# II.1. Chargement du fichier csv\n",
    "\n",
    "burkina_location = pd.read_csv('burkina_location.csv')"
   ]
  },
  {
   "cell_type": "code",
   "execution_count": 16,
   "metadata": {},
   "outputs": [],
   "source": [
    "# II.2. Extraction des donnees sur gounghin\n",
    "\n",
    "burkina_location_gounghin = burkina_location[burkina_location.location_name.str.lower()==\"gounghin\"]"
   ]
  },
  {
   "cell_type": "code",
   "execution_count": 17,
   "metadata": {},
   "outputs": [],
   "source": [
    "# II.3. Enregistrement deS DONNEES SUR GOUNGHIN sous format csv\n",
    "\n",
    "burkina_location_gounghin.to_csv('gounghin.csv')"
   ]
  },
  {
   "cell_type": "code",
   "execution_count": 18,
   "metadata": {},
   "outputs": [],
   "source": [
    "# II.4. Extraction de donnees dont la location commence par des lettres comprises entre A et P\n",
    "\n",
    "lettres = list(string.ascii_uppercase[:16])\n",
    "\n",
    "burkina_location_AP = burkina_location[burkina_location.location_name.str[0].isin(lettres)].sort_values(by='location_name')"
   ]
  },
  {
   "cell_type": "code",
   "execution_count": 19,
   "metadata": {},
   "outputs": [],
   "source": [
    "# II.5. Enregistrement de la base de donnees dont la location commence par des lettres comprises entre A et P\n",
    "\n",
    "burkina_location_AP.to_csv('burkina_location_a_p.csv')"
   ]
  },
  {
   "cell_type": "code",
   "execution_count": 20,
   "metadata": {},
   "outputs": [
    {
     "data": {
      "text/html": [
       "<div>\n",
       "<style scoped>\n",
       "    .dataframe tbody tr th:only-of-type {\n",
       "        vertical-align: middle;\n",
       "    }\n",
       "\n",
       "    .dataframe tbody tr th {\n",
       "        vertical-align: top;\n",
       "    }\n",
       "\n",
       "    .dataframe thead th {\n",
       "        text-align: right;\n",
       "    }\n",
       "</style>\n",
       "<table border=\"1\" class=\"dataframe\">\n",
       "  <thead>\n",
       "    <tr style=\"text-align: right;\">\n",
       "      <th></th>\n",
       "      <th>Unnamed: 0</th>\n",
       "      <th>ID</th>\n",
       "      <th>location_name</th>\n",
       "      <th>lat</th>\n",
       "      <th>long</th>\n",
       "    </tr>\n",
       "  </thead>\n",
       "  <tbody>\n",
       "    <tr>\n",
       "      <th>11149</th>\n",
       "      <td>11149</td>\n",
       "      <td>12224995</td>\n",
       "      <td>Fadio-Mepehn</td>\n",
       "      <td>9.4295</td>\n",
       "      <td>-2.7775</td>\n",
       "    </tr>\n",
       "  </tbody>\n",
       "</table>\n",
       "</div>"
      ],
      "text/plain": [
       "       Unnamed: 0        ID location_name     lat    long\n",
       "11149       11149  12224995  Fadio-Mepehn  9.4295 -2.7775"
      ]
     },
     "execution_count": 20,
     "metadata": {},
     "output_type": "execute_result"
    }
   ],
   "source": [
    "# II.6. Identification la longitude minimale et les noms de lieux correspondants dans le fichier burkina_location.csv.\n",
    "\n",
    "burkina_location[burkina_location.lat == burkina_location.lat.min()]"
   ]
  },
  {
   "cell_type": "code",
   "execution_count": 21,
   "metadata": {},
   "outputs": [
    {
     "data": {
      "text/html": [
       "<div>\n",
       "<style scoped>\n",
       "    .dataframe tbody tr th:only-of-type {\n",
       "        vertical-align: middle;\n",
       "    }\n",
       "\n",
       "    .dataframe tbody tr th {\n",
       "        vertical-align: top;\n",
       "    }\n",
       "\n",
       "    .dataframe thead th {\n",
       "        text-align: right;\n",
       "    }\n",
       "</style>\n",
       "<table border=\"1\" class=\"dataframe\">\n",
       "  <thead>\n",
       "    <tr style=\"text-align: right;\">\n",
       "      <th></th>\n",
       "      <th>Unnamed: 0</th>\n",
       "      <th>ID</th>\n",
       "      <th>location_name</th>\n",
       "      <th>lat</th>\n",
       "      <th>long</th>\n",
       "    </tr>\n",
       "  </thead>\n",
       "  <tbody>\n",
       "    <tr>\n",
       "      <th>1255</th>\n",
       "      <td>1255</td>\n",
       "      <td>2354426</td>\n",
       "      <td>Tinobole</td>\n",
       "      <td>10.75</td>\n",
       "      <td>-5.48333</td>\n",
       "    </tr>\n",
       "  </tbody>\n",
       "</table>\n",
       "</div>"
      ],
      "text/plain": [
       "      Unnamed: 0       ID location_name    lat     long\n",
       "1255        1255  2354426      Tinobole  10.75 -5.48333"
      ]
     },
     "execution_count": 21,
     "metadata": {},
     "output_type": "execute_result"
    }
   ],
   "source": [
    "# II.7. Identification la latitude et les noms de lieux correspondants burkina_location.csv.\n",
    "\n",
    "burkina_location[burkina_location.long == burkina_location.long.min()]"
   ]
  },
  {
   "cell_type": "code",
   "execution_count": 22,
   "metadata": {},
   "outputs": [
    {
     "data": {
      "text/html": [
       "<div>\n",
       "<style scoped>\n",
       "    .dataframe tbody tr th:only-of-type {\n",
       "        vertical-align: middle;\n",
       "    }\n",
       "\n",
       "    .dataframe tbody tr th {\n",
       "        vertical-align: top;\n",
       "    }\n",
       "\n",
       "    .dataframe thead th {\n",
       "        text-align: right;\n",
       "    }\n",
       "</style>\n",
       "<table border=\"1\" class=\"dataframe\">\n",
       "  <thead>\n",
       "    <tr style=\"text-align: right;\">\n",
       "      <th></th>\n",
       "      <th>Unnamed: 0</th>\n",
       "      <th>ID</th>\n",
       "      <th>location_name</th>\n",
       "      <th>lat</th>\n",
       "      <th>long</th>\n",
       "    </tr>\n",
       "  </thead>\n",
       "  <tbody>\n",
       "    <tr>\n",
       "      <th>0</th>\n",
       "      <td>0</td>\n",
       "      <td>2353158</td>\n",
       "      <td>Zyonguen</td>\n",
       "      <td>12.36667</td>\n",
       "      <td>-0.45000</td>\n",
       "    </tr>\n",
       "    <tr>\n",
       "      <th>1</th>\n",
       "      <td>1</td>\n",
       "      <td>2353159</td>\n",
       "      <td>Zyiliwele</td>\n",
       "      <td>12.38333</td>\n",
       "      <td>-2.73333</td>\n",
       "    </tr>\n",
       "    <tr>\n",
       "      <th>2</th>\n",
       "      <td>2</td>\n",
       "      <td>2353160</td>\n",
       "      <td>Zyanko</td>\n",
       "      <td>12.78333</td>\n",
       "      <td>-0.41667</td>\n",
       "    </tr>\n",
       "    <tr>\n",
       "      <th>3</th>\n",
       "      <td>3</td>\n",
       "      <td>2353161</td>\n",
       "      <td>Zouta</td>\n",
       "      <td>13.14908</td>\n",
       "      <td>-1.28197</td>\n",
       "    </tr>\n",
       "    <tr>\n",
       "      <th>4</th>\n",
       "      <td>4</td>\n",
       "      <td>2353162</td>\n",
       "      <td>Zourtenga</td>\n",
       "      <td>12.95741</td>\n",
       "      <td>-1.28745</td>\n",
       "    </tr>\n",
       "    <tr>\n",
       "      <th>...</th>\n",
       "      <td>...</td>\n",
       "      <td>...</td>\n",
       "      <td>...</td>\n",
       "      <td>...</td>\n",
       "      <td>...</td>\n",
       "    </tr>\n",
       "    <tr>\n",
       "      <th>11288</th>\n",
       "      <td>11288</td>\n",
       "      <td>12358467</td>\n",
       "      <td>Kate</td>\n",
       "      <td>14.13461</td>\n",
       "      <td>-0.81244</td>\n",
       "    </tr>\n",
       "    <tr>\n",
       "      <th>11290</th>\n",
       "      <td>11290</td>\n",
       "      <td>12358654</td>\n",
       "      <td>Koulhole</td>\n",
       "      <td>13.43898</td>\n",
       "      <td>-1.16817</td>\n",
       "    </tr>\n",
       "    <tr>\n",
       "      <th>11293</th>\n",
       "      <td>11293</td>\n",
       "      <td>12358657</td>\n",
       "      <td>Nagbingou</td>\n",
       "      <td>13.55244</td>\n",
       "      <td>-0.46760</td>\n",
       "    </tr>\n",
       "    <tr>\n",
       "      <th>11295</th>\n",
       "      <td>11295</td>\n",
       "      <td>12358676</td>\n",
       "      <td>Sella</td>\n",
       "      <td>14.35699</td>\n",
       "      <td>0.28666</td>\n",
       "    </tr>\n",
       "    <tr>\n",
       "      <th>11296</th>\n",
       "      <td>11296</td>\n",
       "      <td>12358677</td>\n",
       "      <td>Kiefaye</td>\n",
       "      <td>13.78260</td>\n",
       "      <td>-1.58790</td>\n",
       "    </tr>\n",
       "  </tbody>\n",
       "</table>\n",
       "<p>9026 rows × 5 columns</p>\n",
       "</div>"
      ],
      "text/plain": [
       "       Unnamed: 0        ID location_name       lat     long\n",
       "0               0   2353158      Zyonguen  12.36667 -0.45000\n",
       "1               1   2353159     Zyiliwele  12.38333 -2.73333\n",
       "2               2   2353160        Zyanko  12.78333 -0.41667\n",
       "3               3   2353161         Zouta  13.14908 -1.28197\n",
       "4               4   2353162     Zourtenga  12.95741 -1.28745\n",
       "...           ...       ...           ...       ...      ...\n",
       "11288       11288  12358467          Kate  14.13461 -0.81244\n",
       "11290       11290  12358654      Koulhole  13.43898 -1.16817\n",
       "11293       11293  12358657     Nagbingou  13.55244 -0.46760\n",
       "11295       11295  12358676         Sella  14.35699  0.28666\n",
       "11296       11296  12358677       Kiefaye  13.78260 -1.58790\n",
       "\n",
       "[9026 rows x 5 columns]"
      ]
     },
     "execution_count": 22,
     "metadata": {},
     "output_type": "execute_result"
    }
   ],
   "source": [
    "# II.8. les lieux dont les coordonnées sont comprises entre (lat >= 11 et lon<= 0.5)\n",
    "\n",
    "burkina_location[(burkina_location.lat >= 11 ) & (burkina_location.long <= 0.5 ) ]"
   ]
  },
  {
   "cell_type": "markdown",
   "metadata": {},
   "source": [
    "# III. Sortie Excel"
   ]
  },
  {
   "cell_type": "code",
   "execution_count": 28,
   "metadata": {},
   "outputs": [],
   "source": [
    "# 3.1. Création du fichier Excel nommé mini_projet\n",
    "\n",
    "donnees  = xlsxwriter.Workbook(os.path.join(os.getcwd(), 'mini_projet.xlsx'))\n",
    "donnees_gounghin = donnees.add_worksheet('gounghin')\n",
    "donnees_a_to_p = donnees.add_worksheet('A_to_P')\n",
    "\n",
    "col = [c for c in list(burkina_location_gounghin.columns) if c!='Unnamed: 0']\n",
    "\n",
    "# Création des entêtes \n",
    "\n",
    "for i in range(len(col)):\n",
    "        donnees_gounghin.write(0, i, col[i])\n",
    "        donnees_a_to_p.write(0, i, col[i])\n",
    "        \n",
    "# Renseignement des données\n",
    "\n",
    "for i in range(burkina_location_gounghin.shape[0]):\n",
    "    for j in range(len(col)):\n",
    "        donnees_gounghin.write(i+1, j, burkina_location_gounghin.iloc[i][col[j]])\n",
    "\n",
    "for i in range(burkina_location_AP.shape[0]):\n",
    "    for j in range(len(col)):\n",
    "        donnees_a_to_p.write(i+1, j, burkina_location_AP.iloc[i][col[j]])\n",
    "donnees.close()"
   ]
  },
  {
   "cell_type": "code",
   "execution_count": null,
   "metadata": {},
   "outputs": [],
   "source": []
  }
 ],
 "metadata": {
  "kernelspec": {
   "display_name": "Python 3",
   "language": "python",
   "name": "python3"
  },
  "language_info": {
   "codemirror_mode": {
    "name": "ipython",
    "version": 3
   },
   "file_extension": ".py",
   "mimetype": "text/x-python",
   "name": "python",
   "nbconvert_exporter": "python",
   "pygments_lexer": "ipython3",
   "version": "3.8.8"
  }
 },
 "nbformat": 4,
 "nbformat_minor": 4
}
